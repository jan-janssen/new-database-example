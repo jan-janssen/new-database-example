{
 "cells": [
  {
   "cell_type": "markdown",
   "id": "9f19c963",
   "metadata": {},
   "source": [
    "https://sanjayasubedi.com.np/python/sqlalchemy/recursive-query-in-postgresql-with-sqlalchemy/"
   ]
  },
  {
   "cell_type": "code",
   "execution_count": 1,
   "id": "077c6239",
   "metadata": {},
   "outputs": [],
   "source": [
    "import os"
   ]
  },
  {
   "cell_type": "code",
   "execution_count": 2,
   "id": "15359e0d",
   "metadata": {},
   "outputs": [],
   "source": [
    "from sqlalchemy import create_engine\n",
    "from sqlalchemy.orm import declarative_base, sessionmaker\n",
    "from sqlalchemy import Column, Integer, String, ForeignKey"
   ]
  },
  {
   "cell_type": "code",
   "execution_count": 3,
   "id": "0e79ce2a",
   "metadata": {},
   "outputs": [],
   "source": [
    "engine = create_engine('sqlite:///:memory:', echo=True)"
   ]
  },
  {
   "cell_type": "code",
   "execution_count": 4,
   "id": "9cdcf63b",
   "metadata": {},
   "outputs": [],
   "source": [
    "Base = declarative_base()"
   ]
  },
  {
   "cell_type": "code",
   "execution_count": 5,
   "id": "f1d45fba",
   "metadata": {},
   "outputs": [],
   "source": [
    "class Project(Base):\n",
    "    __tablename__ = 'projects'\n",
    "    id = Column(Integer, primary_key=True)\n",
    "    project_name = Column(String)\n",
    "    full_path = Column(String)\n",
    "    parent_id = Column(Integer)"
   ]
  },
  {
   "cell_type": "code",
   "execution_count": 6,
   "id": "32f1a800",
   "metadata": {},
   "outputs": [],
   "source": [
    "class Job(Base):\n",
    "    __tablename__ = 'jobs'\n",
    "    id = Column(Integer, primary_key=True)\n",
    "    job_name = Column(String)\n",
    "    master_id = Column(Integer)\n",
    "    parent_id = Column(Integer)\n",
    "    project_id = Column(Integer, ForeignKey(\"projects.id\"))"
   ]
  },
  {
   "cell_type": "code",
   "execution_count": 7,
   "id": "12c7e739",
   "metadata": {},
   "outputs": [
    {
     "name": "stdout",
     "output_type": "stream",
     "text": [
      "2022-03-13 16:31:10,044 INFO sqlalchemy.engine.Engine BEGIN (implicit)\n",
      "2022-03-13 16:31:10,045 INFO sqlalchemy.engine.Engine PRAGMA main.table_info(\"projects\")\n",
      "2022-03-13 16:31:10,045 INFO sqlalchemy.engine.Engine [raw sql] ()\n",
      "2022-03-13 16:31:10,046 INFO sqlalchemy.engine.Engine PRAGMA temp.table_info(\"projects\")\n",
      "2022-03-13 16:31:10,046 INFO sqlalchemy.engine.Engine [raw sql] ()\n",
      "2022-03-13 16:31:10,046 INFO sqlalchemy.engine.Engine PRAGMA main.table_info(\"jobs\")\n",
      "2022-03-13 16:31:10,046 INFO sqlalchemy.engine.Engine [raw sql] ()\n",
      "2022-03-13 16:31:10,047 INFO sqlalchemy.engine.Engine PRAGMA temp.table_info(\"jobs\")\n",
      "2022-03-13 16:31:10,047 INFO sqlalchemy.engine.Engine [raw sql] ()\n",
      "2022-03-13 16:31:10,048 INFO sqlalchemy.engine.Engine \n",
      "CREATE TABLE projects (\n",
      "\tid INTEGER NOT NULL, \n",
      "\tproject_name VARCHAR, \n",
      "\tfull_path VARCHAR, \n",
      "\tparent_id INTEGER, \n",
      "\tPRIMARY KEY (id)\n",
      ")\n",
      "\n",
      "\n",
      "2022-03-13 16:31:10,048 INFO sqlalchemy.engine.Engine [no key 0.00024s] ()\n",
      "2022-03-13 16:31:10,049 INFO sqlalchemy.engine.Engine \n",
      "CREATE TABLE jobs (\n",
      "\tid INTEGER NOT NULL, \n",
      "\tjob_name VARCHAR, \n",
      "\tmaster_id INTEGER, \n",
      "\tparent_id INTEGER, \n",
      "\tproject_id INTEGER, \n",
      "\tPRIMARY KEY (id), \n",
      "\tFOREIGN KEY(project_id) REFERENCES projects (id)\n",
      ")\n",
      "\n",
      "\n",
      "2022-03-13 16:31:10,049 INFO sqlalchemy.engine.Engine [no key 0.00018s] ()\n",
      "2022-03-13 16:31:10,049 INFO sqlalchemy.engine.Engine COMMIT\n"
     ]
    }
   ],
   "source": [
    "Base.metadata.create_all(engine)"
   ]
  },
  {
   "cell_type": "code",
   "execution_count": 8,
   "id": "465b5426",
   "metadata": {},
   "outputs": [],
   "source": [
    "session = sessionmaker(bind=engine)()"
   ]
  },
  {
   "cell_type": "code",
   "execution_count": 9,
   "id": "ac594e85",
   "metadata": {},
   "outputs": [],
   "source": [
    "def get_path_dict(path):\n",
    "    cwd_split_lst = path.split(\"/\")\n",
    "    return {\n",
    "        n:p for n, p in zip(\n",
    "            [p if p != \"\" else \"/\" for p in cwd_split_lst], \n",
    "            [\"/\".join(cwd_split_lst[:i+1]) if i > 0 else \"/\" for i in range(len(cwd_split_lst))]\n",
    "        )\n",
    "    }"
   ]
  },
  {
   "cell_type": "code",
   "execution_count": 10,
   "id": "4242d1e8",
   "metadata": {},
   "outputs": [],
   "source": [
    "def get_project_id(session, full_path):\n",
    "    result = session.query(Project).filter(Project.full_path==full_path).all()\n",
    "    if len(result) > 0:\n",
    "        return result[0]\n",
    "    else:\n",
    "        return None"
   ]
  },
  {
   "cell_type": "code",
   "execution_count": 11,
   "id": "91755119",
   "metadata": {},
   "outputs": [],
   "source": [
    "def get_path_to_add(sub_path_dict):\n",
    "    full_path_lst = list(sub_path_dict.values())[::-1]\n",
    "    project_name_lst = list(sub_path_dict.keys())[::-1]\n",
    "    project_path_lst = [get_project_id(session=session, full_path=p) for p in full_path_lst]\n",
    "    project_id_lst = [p for p in project_path_lst if p is not None]\n",
    "    if len(project_id_lst) == 0:\n",
    "        return sub_path_dict, None\n",
    "    else:\n",
    "        return {\n",
    "            k: v \n",
    "            for k, v in sub_path_dict.items() \n",
    "            if project_id_lst[0].full_path in v and not project_id_lst[0].full_path == v\n",
    "        }, project_id_lst[0]"
   ]
  },
  {
   "cell_type": "code",
   "execution_count": 12,
   "id": "17258c64",
   "metadata": {},
   "outputs": [],
   "source": [
    "def add_path_to_database(path_dict, project_prev=None):\n",
    "    for project_name, full_path in path_dict.items(): \n",
    "        if project_prev is None:\n",
    "            project_cur = Project(\n",
    "                project_name=project_name, \n",
    "                full_path=full_path\n",
    "            )\n",
    "        else:\n",
    "            project_cur = Project(\n",
    "                project_name=project_name, \n",
    "                full_path=full_path, \n",
    "                parent_id=project_prev.id\n",
    "            )\n",
    "        session.add(project_cur)\n",
    "        session.commit()\n",
    "        project_prev = project_cur"
   ]
  },
  {
   "cell_type": "code",
   "execution_count": 13,
   "id": "49acd484",
   "metadata": {},
   "outputs": [],
   "source": [
    "def get_project_ids(directory, recursive=False):\n",
    "    parent_project = session.query(Project).filter(Project.full_path==directory).one()\n",
    "    if not recursive:\n",
    "        return [parent_project.id]\n",
    "    else: \n",
    "        topq = session.query(Project)\n",
    "        topq = topq.filter(Project.id == parent_project.id)\n",
    "        topq = topq.cte('cte', recursive=True)\n",
    "        \n",
    "        bottomq = session.query(Project)\n",
    "        bottomq = bottomq.join(topq, Project.parent_id == topq.c.id)\n",
    "        \n",
    "        recursive_q = topq.union(bottomq)\n",
    "        result_lst = session.query(recursive_q).all()\n",
    "        return [r.id for r in result_lst]"
   ]
  },
  {
   "cell_type": "code",
   "execution_count": 14,
   "id": "6a9c23a2",
   "metadata": {},
   "outputs": [],
   "source": [
    "cwd = os.path.abspath(\".\")"
   ]
  },
  {
   "cell_type": "code",
   "execution_count": 15,
   "id": "eb5a2c4e",
   "metadata": {},
   "outputs": [
    {
     "data": {
      "text/plain": [
       "{'/': '/',\n",
       " 'Users': '/Users',\n",
       " 'jan': '/Users/jan',\n",
       " 'pyiron': '/Users/jan/pyiron',\n",
       " 'projects': '/Users/jan/pyiron/projects'}"
      ]
     },
     "execution_count": 15,
     "metadata": {},
     "output_type": "execute_result"
    }
   ],
   "source": [
    "sub_path_dict = get_path_dict(path=os.path.dirname(os.path.dirname(cwd)))\n",
    "sub_path_dict"
   ]
  },
  {
   "cell_type": "code",
   "execution_count": 16,
   "id": "e9af6afa",
   "metadata": {},
   "outputs": [
    {
     "name": "stdout",
     "output_type": "stream",
     "text": [
      "2022-03-13 16:31:10,077 INFO sqlalchemy.engine.Engine BEGIN (implicit)\n",
      "2022-03-13 16:31:10,079 INFO sqlalchemy.engine.Engine SELECT projects.id AS projects_id, projects.project_name AS projects_project_name, projects.full_path AS projects_full_path, projects.parent_id AS projects_parent_id \n",
      "FROM projects \n",
      "WHERE projects.full_path = ?\n",
      "2022-03-13 16:31:10,079 INFO sqlalchemy.engine.Engine [generated in 0.00028s] ('/Users/jan/pyiron/projects',)\n",
      "2022-03-13 16:31:10,080 INFO sqlalchemy.engine.Engine SELECT projects.id AS projects_id, projects.project_name AS projects_project_name, projects.full_path AS projects_full_path, projects.parent_id AS projects_parent_id \n",
      "FROM projects \n",
      "WHERE projects.full_path = ?\n",
      "2022-03-13 16:31:10,080 INFO sqlalchemy.engine.Engine [cached since 0.001069s ago] ('/Users/jan/pyiron',)\n",
      "2022-03-13 16:31:10,081 INFO sqlalchemy.engine.Engine SELECT projects.id AS projects_id, projects.project_name AS projects_project_name, projects.full_path AS projects_full_path, projects.parent_id AS projects_parent_id \n",
      "FROM projects \n",
      "WHERE projects.full_path = ?\n",
      "2022-03-13 16:31:10,081 INFO sqlalchemy.engine.Engine [cached since 0.001794s ago] ('/Users/jan',)\n",
      "2022-03-13 16:31:10,081 INFO sqlalchemy.engine.Engine SELECT projects.id AS projects_id, projects.project_name AS projects_project_name, projects.full_path AS projects_full_path, projects.parent_id AS projects_parent_id \n",
      "FROM projects \n",
      "WHERE projects.full_path = ?\n",
      "2022-03-13 16:31:10,081 INFO sqlalchemy.engine.Engine [cached since 0.002402s ago] ('/Users',)\n",
      "2022-03-13 16:31:10,082 INFO sqlalchemy.engine.Engine SELECT projects.id AS projects_id, projects.project_name AS projects_project_name, projects.full_path AS projects_full_path, projects.parent_id AS projects_parent_id \n",
      "FROM projects \n",
      "WHERE projects.full_path = ?\n",
      "2022-03-13 16:31:10,082 INFO sqlalchemy.engine.Engine [cached since 0.002999s ago] ('/',)\n"
     ]
    },
    {
     "data": {
      "text/plain": [
       "({'/': '/',\n",
       "  'Users': '/Users',\n",
       "  'jan': '/Users/jan',\n",
       "  'pyiron': '/Users/jan/pyiron',\n",
       "  'projects': '/Users/jan/pyiron/projects'},\n",
       " None)"
      ]
     },
     "execution_count": 16,
     "metadata": {},
     "output_type": "execute_result"
    }
   ],
   "source": [
    "sub_path_update_dict, project_prev = get_path_to_add(sub_path_dict=sub_path_dict)\n",
    "sub_path_update_dict, project_prev"
   ]
  },
  {
   "cell_type": "code",
   "execution_count": 17,
   "id": "98ad8fc5",
   "metadata": {},
   "outputs": [
    {
     "name": "stdout",
     "output_type": "stream",
     "text": [
      "2022-03-13 16:31:10,085 INFO sqlalchemy.engine.Engine INSERT INTO projects (project_name, full_path, parent_id) VALUES (?, ?, ?)\n",
      "2022-03-13 16:31:10,086 INFO sqlalchemy.engine.Engine [generated in 0.00049s] ('/', '/', None)\n",
      "2022-03-13 16:31:10,086 INFO sqlalchemy.engine.Engine COMMIT\n",
      "2022-03-13 16:31:10,087 INFO sqlalchemy.engine.Engine BEGIN (implicit)\n",
      "2022-03-13 16:31:10,088 INFO sqlalchemy.engine.Engine SELECT projects.id AS projects_id, projects.project_name AS projects_project_name, projects.full_path AS projects_full_path, projects.parent_id AS projects_parent_id \n",
      "FROM projects \n",
      "WHERE projects.id = ?\n",
      "2022-03-13 16:31:10,088 INFO sqlalchemy.engine.Engine [generated in 0.00025s] (1,)\n",
      "2022-03-13 16:31:10,089 INFO sqlalchemy.engine.Engine INSERT INTO projects (project_name, full_path, parent_id) VALUES (?, ?, ?)\n",
      "2022-03-13 16:31:10,089 INFO sqlalchemy.engine.Engine [cached since 0.003511s ago] ('Users', '/Users', 1)\n",
      "2022-03-13 16:31:10,089 INFO sqlalchemy.engine.Engine COMMIT\n",
      "2022-03-13 16:31:10,090 INFO sqlalchemy.engine.Engine BEGIN (implicit)\n",
      "2022-03-13 16:31:10,090 INFO sqlalchemy.engine.Engine SELECT projects.id AS projects_id, projects.project_name AS projects_project_name, projects.full_path AS projects_full_path, projects.parent_id AS projects_parent_id \n",
      "FROM projects \n",
      "WHERE projects.id = ?\n",
      "2022-03-13 16:31:10,090 INFO sqlalchemy.engine.Engine [cached since 0.002246s ago] (2,)\n",
      "2022-03-13 16:31:10,090 INFO sqlalchemy.engine.Engine INSERT INTO projects (project_name, full_path, parent_id) VALUES (?, ?, ?)\n",
      "2022-03-13 16:31:10,091 INFO sqlalchemy.engine.Engine [cached since 0.005358s ago] ('jan', '/Users/jan', 2)\n",
      "2022-03-13 16:31:10,091 INFO sqlalchemy.engine.Engine COMMIT\n",
      "2022-03-13 16:31:10,091 INFO sqlalchemy.engine.Engine BEGIN (implicit)\n",
      "2022-03-13 16:31:10,092 INFO sqlalchemy.engine.Engine SELECT projects.id AS projects_id, projects.project_name AS projects_project_name, projects.full_path AS projects_full_path, projects.parent_id AS projects_parent_id \n",
      "FROM projects \n",
      "WHERE projects.id = ?\n",
      "2022-03-13 16:31:10,092 INFO sqlalchemy.engine.Engine [cached since 0.004s ago] (3,)\n",
      "2022-03-13 16:31:10,092 INFO sqlalchemy.engine.Engine INSERT INTO projects (project_name, full_path, parent_id) VALUES (?, ?, ?)\n",
      "2022-03-13 16:31:10,092 INFO sqlalchemy.engine.Engine [cached since 0.006965s ago] ('pyiron', '/Users/jan/pyiron', 3)\n",
      "2022-03-13 16:31:10,093 INFO sqlalchemy.engine.Engine COMMIT\n",
      "2022-03-13 16:31:10,093 INFO sqlalchemy.engine.Engine BEGIN (implicit)\n",
      "2022-03-13 16:31:10,093 INFO sqlalchemy.engine.Engine SELECT projects.id AS projects_id, projects.project_name AS projects_project_name, projects.full_path AS projects_full_path, projects.parent_id AS projects_parent_id \n",
      "FROM projects \n",
      "WHERE projects.id = ?\n",
      "2022-03-13 16:31:10,094 INFO sqlalchemy.engine.Engine [cached since 0.005753s ago] (4,)\n",
      "2022-03-13 16:31:10,094 INFO sqlalchemy.engine.Engine INSERT INTO projects (project_name, full_path, parent_id) VALUES (?, ?, ?)\n",
      "2022-03-13 16:31:10,094 INFO sqlalchemy.engine.Engine [cached since 0.008908s ago] ('projects', '/Users/jan/pyiron/projects', 4)\n",
      "2022-03-13 16:31:10,095 INFO sqlalchemy.engine.Engine COMMIT\n"
     ]
    }
   ],
   "source": [
    "add_path_to_database(path_dict=sub_path_update_dict, project_prev=project_prev)"
   ]
  },
  {
   "cell_type": "code",
   "execution_count": 18,
   "id": "62519bd9",
   "metadata": {},
   "outputs": [
    {
     "data": {
      "text/plain": [
       "{'/': '/',\n",
       " 'Users': '/Users',\n",
       " 'jan': '/Users/jan',\n",
       " 'pyiron': '/Users/jan/pyiron',\n",
       " 'projects': '/Users/jan/pyiron/projects',\n",
       " '2022': '/Users/jan/pyiron/projects/2022',\n",
       " '2022-03-13-project-sql': '/Users/jan/pyiron/projects/2022/2022-03-13-project-sql'}"
      ]
     },
     "execution_count": 18,
     "metadata": {},
     "output_type": "execute_result"
    }
   ],
   "source": [
    "sub_path_dict = get_path_dict(path=os.path.abspath(\".\"))\n",
    "sub_path_dict"
   ]
  },
  {
   "cell_type": "code",
   "execution_count": 19,
   "id": "e1c19694",
   "metadata": {},
   "outputs": [
    {
     "name": "stdout",
     "output_type": "stream",
     "text": [
      "2022-03-13 16:31:10,100 INFO sqlalchemy.engine.Engine BEGIN (implicit)\n",
      "2022-03-13 16:31:10,101 INFO sqlalchemy.engine.Engine SELECT projects.id AS projects_id, projects.project_name AS projects_project_name, projects.full_path AS projects_full_path, projects.parent_id AS projects_parent_id \n",
      "FROM projects \n",
      "WHERE projects.full_path = ?\n",
      "2022-03-13 16:31:10,101 INFO sqlalchemy.engine.Engine [cached since 0.02216s ago] ('/Users/jan/pyiron/projects/2022/2022-03-13-project-sql',)\n",
      "2022-03-13 16:31:10,102 INFO sqlalchemy.engine.Engine SELECT projects.id AS projects_id, projects.project_name AS projects_project_name, projects.full_path AS projects_full_path, projects.parent_id AS projects_parent_id \n",
      "FROM projects \n",
      "WHERE projects.full_path = ?\n",
      "2022-03-13 16:31:10,102 INFO sqlalchemy.engine.Engine [cached since 0.02287s ago] ('/Users/jan/pyiron/projects/2022',)\n",
      "2022-03-13 16:31:10,102 INFO sqlalchemy.engine.Engine SELECT projects.id AS projects_id, projects.project_name AS projects_project_name, projects.full_path AS projects_full_path, projects.parent_id AS projects_parent_id \n",
      "FROM projects \n",
      "WHERE projects.full_path = ?\n",
      "2022-03-13 16:31:10,102 INFO sqlalchemy.engine.Engine [cached since 0.02341s ago] ('/Users/jan/pyiron/projects',)\n",
      "2022-03-13 16:31:10,103 INFO sqlalchemy.engine.Engine SELECT projects.id AS projects_id, projects.project_name AS projects_project_name, projects.full_path AS projects_full_path, projects.parent_id AS projects_parent_id \n",
      "FROM projects \n",
      "WHERE projects.full_path = ?\n",
      "2022-03-13 16:31:10,103 INFO sqlalchemy.engine.Engine [cached since 0.02395s ago] ('/Users/jan/pyiron',)\n",
      "2022-03-13 16:31:10,103 INFO sqlalchemy.engine.Engine SELECT projects.id AS projects_id, projects.project_name AS projects_project_name, projects.full_path AS projects_full_path, projects.parent_id AS projects_parent_id \n",
      "FROM projects \n",
      "WHERE projects.full_path = ?\n",
      "2022-03-13 16:31:10,104 INFO sqlalchemy.engine.Engine [cached since 0.02452s ago] ('/Users/jan',)\n",
      "2022-03-13 16:31:10,104 INFO sqlalchemy.engine.Engine SELECT projects.id AS projects_id, projects.project_name AS projects_project_name, projects.full_path AS projects_full_path, projects.parent_id AS projects_parent_id \n",
      "FROM projects \n",
      "WHERE projects.full_path = ?\n",
      "2022-03-13 16:31:10,104 INFO sqlalchemy.engine.Engine [cached since 0.02512s ago] ('/Users',)\n",
      "2022-03-13 16:31:10,105 INFO sqlalchemy.engine.Engine SELECT projects.id AS projects_id, projects.project_name AS projects_project_name, projects.full_path AS projects_full_path, projects.parent_id AS projects_parent_id \n",
      "FROM projects \n",
      "WHERE projects.full_path = ?\n",
      "2022-03-13 16:31:10,105 INFO sqlalchemy.engine.Engine [cached since 0.0257s ago] ('/',)\n"
     ]
    },
    {
     "data": {
      "text/plain": [
       "({'2022': '/Users/jan/pyiron/projects/2022',\n",
       "  '2022-03-13-project-sql': '/Users/jan/pyiron/projects/2022/2022-03-13-project-sql'},\n",
       " <__main__.Project at 0x111cae650>)"
      ]
     },
     "execution_count": 19,
     "metadata": {},
     "output_type": "execute_result"
    }
   ],
   "source": [
    "sub_path_update_dict, project_prev = get_path_to_add(sub_path_dict=sub_path_dict)\n",
    "sub_path_update_dict, project_prev"
   ]
  },
  {
   "cell_type": "code",
   "execution_count": 20,
   "id": "ac815ba3",
   "metadata": {},
   "outputs": [
    {
     "name": "stdout",
     "output_type": "stream",
     "text": [
      "2022-03-13 16:31:10,108 INFO sqlalchemy.engine.Engine INSERT INTO projects (project_name, full_path, parent_id) VALUES (?, ?, ?)\n",
      "2022-03-13 16:31:10,108 INFO sqlalchemy.engine.Engine [cached since 0.02301s ago] ('2022', '/Users/jan/pyiron/projects/2022', 5)\n",
      "2022-03-13 16:31:10,109 INFO sqlalchemy.engine.Engine COMMIT\n",
      "2022-03-13 16:31:10,109 INFO sqlalchemy.engine.Engine BEGIN (implicit)\n",
      "2022-03-13 16:31:10,110 INFO sqlalchemy.engine.Engine SELECT projects.id AS projects_id, projects.project_name AS projects_project_name, projects.full_path AS projects_full_path, projects.parent_id AS projects_parent_id \n",
      "FROM projects \n",
      "WHERE projects.id = ?\n",
      "2022-03-13 16:31:10,110 INFO sqlalchemy.engine.Engine [cached since 0.02198s ago] (6,)\n",
      "2022-03-13 16:31:10,110 INFO sqlalchemy.engine.Engine INSERT INTO projects (project_name, full_path, parent_id) VALUES (?, ?, ?)\n",
      "2022-03-13 16:31:10,110 INFO sqlalchemy.engine.Engine [cached since 0.02506s ago] ('2022-03-13-project-sql', '/Users/jan/pyiron/projects/2022/2022-03-13-project-sql', 6)\n",
      "2022-03-13 16:31:10,111 INFO sqlalchemy.engine.Engine COMMIT\n"
     ]
    }
   ],
   "source": [
    "add_path_to_database(path_dict=sub_path_update_dict, project_prev=project_prev)"
   ]
  },
  {
   "cell_type": "code",
   "execution_count": 21,
   "id": "8e1ee9d8",
   "metadata": {},
   "outputs": [],
   "source": [
    "parent_dir = os.path.dirname(os.path.dirname(cwd))"
   ]
  },
  {
   "cell_type": "code",
   "execution_count": 22,
   "id": "d29325ae",
   "metadata": {},
   "outputs": [
    {
     "name": "stdout",
     "output_type": "stream",
     "text": [
      "2022-03-13 16:31:10,115 INFO sqlalchemy.engine.Engine BEGIN (implicit)\n",
      "2022-03-13 16:31:10,116 INFO sqlalchemy.engine.Engine SELECT projects.id AS projects_id, projects.project_name AS projects_project_name, projects.full_path AS projects_full_path, projects.parent_id AS projects_parent_id \n",
      "FROM projects \n",
      "WHERE projects.full_path = ?\n",
      "2022-03-13 16:31:10,116 INFO sqlalchemy.engine.Engine [cached since 0.0372s ago] ('/Users/jan/pyiron/projects',)\n"
     ]
    },
    {
     "data": {
      "text/plain": [
       "[5]"
      ]
     },
     "execution_count": 22,
     "metadata": {},
     "output_type": "execute_result"
    }
   ],
   "source": [
    "get_project_ids(directory=parent_dir, recursive=False)"
   ]
  },
  {
   "cell_type": "code",
   "execution_count": 23,
   "id": "9c19fae0",
   "metadata": {},
   "outputs": [
    {
     "name": "stdout",
     "output_type": "stream",
     "text": [
      "2022-03-13 16:31:10,119 INFO sqlalchemy.engine.Engine SELECT projects.id AS projects_id, projects.project_name AS projects_project_name, projects.full_path AS projects_full_path, projects.parent_id AS projects_parent_id \n",
      "FROM projects \n",
      "WHERE projects.full_path = ?\n",
      "2022-03-13 16:31:10,120 INFO sqlalchemy.engine.Engine [cached since 0.04066s ago] ('/Users/jan/pyiron/projects',)\n",
      "2022-03-13 16:31:10,122 INFO sqlalchemy.engine.Engine WITH RECURSIVE cte(id, project_name, full_path, parent_id) AS \n",
      "(SELECT projects.id AS id, projects.project_name AS project_name, projects.full_path AS full_path, projects.parent_id AS parent_id \n",
      "FROM projects \n",
      "WHERE projects.id = ? UNION SELECT projects.id AS projects_id, projects.project_name AS projects_project_name, projects.full_path AS projects_full_path, projects.parent_id AS projects_parent_id \n",
      "FROM projects JOIN cte ON projects.parent_id = cte.id)\n",
      " SELECT cte.id AS cte_id, cte.project_name AS cte_project_name, cte.full_path AS cte_full_path, cte.parent_id AS cte_parent_id \n",
      "FROM cte\n",
      "2022-03-13 16:31:10,122 INFO sqlalchemy.engine.Engine [generated in 0.00043s] (5,)\n"
     ]
    },
    {
     "data": {
      "text/plain": [
       "[5, 6, 7]"
      ]
     },
     "execution_count": 23,
     "metadata": {},
     "output_type": "execute_result"
    }
   ],
   "source": [
    "get_project_ids(directory=parent_dir, recursive=True)"
   ]
  },
  {
   "cell_type": "code",
   "execution_count": null,
   "id": "36f113d4",
   "metadata": {},
   "outputs": [],
   "source": []
  }
 ],
 "metadata": {
  "kernelspec": {
   "display_name": "Python 3 (ipykernel)",
   "language": "python",
   "name": "python3"
  },
  "language_info": {
   "codemirror_mode": {
    "name": "ipython",
    "version": 3
   },
   "file_extension": ".py",
   "mimetype": "text/x-python",
   "name": "python",
   "nbconvert_exporter": "python",
   "pygments_lexer": "ipython3",
   "version": "3.10.2"
  }
 },
 "nbformat": 4,
 "nbformat_minor": 5
}
